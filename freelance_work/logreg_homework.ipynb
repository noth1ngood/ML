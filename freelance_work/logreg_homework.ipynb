{
 "cells": [
  {
   "cell_type": "markdown",
   "id": "911da6e0",
   "metadata": {},
   "source": [
    "<center>\n",
    "<img src=\"https://i.ibb.co/Ycs11Fg/meme.jpg\">\n",
    "</center>\n",
    "\n",
    "# Андан на экономе: домашнее задание 3\n",
    "## Задача классификации"
   ]
  },
  {
   "cell_type": "markdown",
   "id": "7b55058a",
   "metadata": {},
   "source": [
    "## Импорт необходимых библиотек "
   ]
  },
  {
   "cell_type": "markdown",
   "id": "f7deb1cc",
   "metadata": {},
   "source": [
    "Импортируйте все используемые библиотеки здесь."
   ]
  },
  {
   "cell_type": "code",
   "execution_count": 74,
   "id": "9311e523",
   "metadata": {
    "scrolled": false
   },
   "outputs": [],
   "source": [
    "# Ваш код здесь\n",
    "import pandas as pd\n",
    "import numpy as np\n",
    "import matplotlib.pyplot as plt\n",
    "import requests, urllib, json\n",
    "\n",
    "from sklearn.model_selection import train_test_split, cross_val_score, GridSearchCV\n",
    "from sklearn.linear_model import LogisticRegression\n",
    "from sklearn.metrics import roc_auc_score, precision_score, recall_score, accuracy_score, fbeta_score\n",
    "from sklearn.preprocessing import MinMaxScaler\n",
    "\n",
    "from scipy.interpolate import make_interp_spline, BSpline\n",
    "\n",
    "import warnings\n",
    "warnings.filterwarnings(\"ignore\")"
   ]
  },
  {
   "cell_type": "markdown",
   "id": "8e5cf1b8",
   "metadata": {},
   "source": [
    "## Задача "
   ]
  },
  {
   "cell_type": "markdown",
   "id": "c6f6920e",
   "metadata": {},
   "source": [
    "В данном задании вам необходимо построить предсказательную модель, определяющую пол клиента по его банковским транзакциям.\n",
    "\n",
    "Вам доступны 2 файла:\n",
    "* __transaction.csv__ - файл с транзакциями, колонки:\n",
    "    * user_id - целочисленный идентификатор пользователя\n",
    "    * dt - дата и время совершения транзации, принцип кодирования: \"DAY TIME\"\n",
    "        * DAY - порядковый день транзации с начала сбора данных\n",
    "        * TIME - время в формате hh:mm:ss\n",
    "    * type - тип (категория) совершаемой транзакции\n",
    "    * value - сумма транзакции\n",
    "    \n",
    "* __gender.csv__ - файл с данными о полах клиентов.\n",
    "    * user_id - целочисленный идентификатор пользователя\n",
    "    * gender - целевая переменная, закодированная лейблами 0 и 1. Это сделано:\n",
    "        * a) для удобства\n",
    "        * б) для избежания холиваров о правильности исходных меток \n",
    "\n",
    "Но если вы вдруг захотите похоливарить о том, что метки только две - то заметьте, что о полноте данных мы тоже не утверждаем."
   ]
  },
  {
   "cell_type": "markdown",
   "id": "56da0228",
   "metadata": {},
   "source": [
    "# Часть 1: минималочка [макс 20 баллов]"
   ]
  },
  {
   "cell_type": "markdown",
   "id": "cb568469",
   "metadata": {},
   "source": [
    "В этой части мы с вами попробуем построить самую простую модель для предсказания.\n",
    "\n",
    "Как мы с вами увидим: главная сложность - правильная подготовка данных. В таких задачах то, как именно вы преобразуете данные для обучения модели и будет во много определять её качество.\n",
    "\n",
    "В этой части мы сделаем простое преобразование данных путём простой агрегации данных о величине транзакций. "
   ]
  },
  {
   "cell_type": "markdown",
   "id": "3d8c2bf8",
   "metadata": {},
   "source": [
    "## Загрузка данных [5 баллов] "
   ]
  },
  {
   "cell_type": "markdown",
   "id": "b324b6bb",
   "metadata": {},
   "source": [
    "Скачайте данные для задачи с Яндекс.Диска:\n",
    "https://disk.yandex.ru/d/DGy6bbLaMZmrQg.\n",
    "\n",
    "Загрузите файлы с транзакциями и целевой меткой в pd.DataFrame.\n",
    "\n",
    "__Внимание__: у файла transactions.csv колоночный разделитель - точка с запятой \";\""
   ]
  },
  {
   "cell_type": "code",
   "execution_count": 2,
   "id": "12a08af9",
   "metadata": {
    "scrolled": false
   },
   "outputs": [
    {
     "data": {
      "text/html": [
       "<div>\n",
       "<style scoped>\n",
       "    .dataframe tbody tr th:only-of-type {\n",
       "        vertical-align: middle;\n",
       "    }\n",
       "\n",
       "    .dataframe tbody tr th {\n",
       "        vertical-align: top;\n",
       "    }\n",
       "\n",
       "    .dataframe thead th {\n",
       "        text-align: right;\n",
       "    }\n",
       "</style>\n",
       "<table border=\"1\" class=\"dataframe\">\n",
       "  <thead>\n",
       "    <tr style=\"text-align: right;\">\n",
       "      <th></th>\n",
       "      <th>user_id</th>\n",
       "      <th>gender</th>\n",
       "    </tr>\n",
       "  </thead>\n",
       "  <tbody>\n",
       "    <tr>\n",
       "      <th>0</th>\n",
       "      <td>6740969</td>\n",
       "      <td>1</td>\n",
       "    </tr>\n",
       "    <tr>\n",
       "      <th>1</th>\n",
       "      <td>36599781</td>\n",
       "      <td>0</td>\n",
       "    </tr>\n",
       "    <tr>\n",
       "      <th>2</th>\n",
       "      <td>91453656</td>\n",
       "      <td>1</td>\n",
       "    </tr>\n",
       "    <tr>\n",
       "      <th>3</th>\n",
       "      <td>17431962</td>\n",
       "      <td>1</td>\n",
       "    </tr>\n",
       "    <tr>\n",
       "      <th>4</th>\n",
       "      <td>72568668</td>\n",
       "      <td>1</td>\n",
       "    </tr>\n",
       "    <tr>\n",
       "      <th>...</th>\n",
       "      <td>...</td>\n",
       "      <td>...</td>\n",
       "    </tr>\n",
       "    <tr>\n",
       "      <th>8395</th>\n",
       "      <td>93715144</td>\n",
       "      <td>1</td>\n",
       "    </tr>\n",
       "    <tr>\n",
       "      <th>8396</th>\n",
       "      <td>51502229</td>\n",
       "      <td>0</td>\n",
       "    </tr>\n",
       "    <tr>\n",
       "      <th>8397</th>\n",
       "      <td>77655748</td>\n",
       "      <td>1</td>\n",
       "    </tr>\n",
       "    <tr>\n",
       "      <th>8398</th>\n",
       "      <td>87819773</td>\n",
       "      <td>1</td>\n",
       "    </tr>\n",
       "    <tr>\n",
       "      <th>8399</th>\n",
       "      <td>14178332</td>\n",
       "      <td>1</td>\n",
       "    </tr>\n",
       "  </tbody>\n",
       "</table>\n",
       "<p>8400 rows × 2 columns</p>\n",
       "</div>"
      ],
      "text/plain": [
       "       user_id  gender\n",
       "0      6740969       1\n",
       "1     36599781       0\n",
       "2     91453656       1\n",
       "3     17431962       1\n",
       "4     72568668       1\n",
       "...        ...     ...\n",
       "8395  93715144       1\n",
       "8396  51502229       0\n",
       "8397  77655748       1\n",
       "8398  87819773       1\n",
       "8399  14178332       1\n",
       "\n",
       "[8400 rows x 2 columns]"
      ]
     },
     "execution_count": 2,
     "metadata": {},
     "output_type": "execute_result"
    }
   ],
   "source": [
    "# Ваш код здесь\n",
    "try:\n",
    "    gender = pd.read_csv(\"gender.csv\")\n",
    "except:\n",
    "    folder_url = 'https://disk.yandex.ru/d/DGy6bbLaMZmrQg'\n",
    "    file_url = 'gender.csv'\n",
    "    url = 'https://cloud-api.yandex.net/v1/disk/public/resources/download' + '?public_key=' + urllib.parse.quote(folder_url) + '&path=/' + urllib.parse.quote(file_url)\n",
    "\n",
    "    r = requests.get(url) # запрос ссылки на скачивание\n",
    "    h = json.loads(r.text)['href'] # 'парсинг' ссылки на скачивание\n",
    "\n",
    "    gender = pd.read_csv(h, sep=',', error_bad_lines=False, comment='#' , encoding='cp1251')\n",
    "\n",
    "gender[\"gender\"] = gender[\"gender\"].astype(\"int64\") \n",
    "gender"
   ]
  },
  {
   "cell_type": "code",
   "execution_count": 3,
   "id": "73296190",
   "metadata": {
    "scrolled": false
   },
   "outputs": [
    {
     "data": {
      "text/html": [
       "<div>\n",
       "<style scoped>\n",
       "    .dataframe tbody tr th:only-of-type {\n",
       "        vertical-align: middle;\n",
       "    }\n",
       "\n",
       "    .dataframe tbody tr th {\n",
       "        vertical-align: top;\n",
       "    }\n",
       "\n",
       "    .dataframe thead th {\n",
       "        text-align: right;\n",
       "    }\n",
       "</style>\n",
       "<table border=\"1\" class=\"dataframe\">\n",
       "  <thead>\n",
       "    <tr style=\"text-align: right;\">\n",
       "      <th></th>\n",
       "      <th>user_id</th>\n",
       "      <th>dt</th>\n",
       "      <th>type</th>\n",
       "      <th>value</th>\n",
       "    </tr>\n",
       "  </thead>\n",
       "  <tbody>\n",
       "    <tr>\n",
       "      <th>0</th>\n",
       "      <td>39026145</td>\n",
       "      <td>0 10:23:26</td>\n",
       "      <td>Звонки с использованием телефонов, считывающих...</td>\n",
       "      <td>2695.099</td>\n",
       "    </tr>\n",
       "    <tr>\n",
       "      <th>1</th>\n",
       "      <td>39026145</td>\n",
       "      <td>6 07:08:31</td>\n",
       "      <td>Звонки с использованием телефонов, считывающих...</td>\n",
       "      <td>2358.212</td>\n",
       "    </tr>\n",
       "    <tr>\n",
       "      <th>2</th>\n",
       "      <td>39026145</td>\n",
       "      <td>8 07:06:10</td>\n",
       "      <td>Звонки с использованием телефонов, считывающих...</td>\n",
       "      <td>2807.395</td>\n",
       "    </tr>\n",
       "    <tr>\n",
       "      <th>3</th>\n",
       "      <td>39026145</td>\n",
       "      <td>11 08:49:03</td>\n",
       "      <td>Звонки с использованием телефонов, считывающих...</td>\n",
       "      <td>2695.099</td>\n",
       "    </tr>\n",
       "    <tr>\n",
       "      <th>4</th>\n",
       "      <td>39026145</td>\n",
       "      <td>11 14:12:08</td>\n",
       "      <td>Звонки с использованием телефонов, считывающих...</td>\n",
       "      <td>2695.099</td>\n",
       "    </tr>\n",
       "    <tr>\n",
       "      <th>...</th>\n",
       "      <td>...</td>\n",
       "      <td>...</td>\n",
       "      <td>...</td>\n",
       "      <td>...</td>\n",
       "    </tr>\n",
       "    <tr>\n",
       "      <th>2282462</th>\n",
       "      <td>71902723</td>\n",
       "      <td>290 15:12:09</td>\n",
       "      <td>Агенты и менеджеры по аренде недвижимости</td>\n",
       "      <td>2133.620</td>\n",
       "    </tr>\n",
       "    <tr>\n",
       "      <th>2282463</th>\n",
       "      <td>71942984</td>\n",
       "      <td>248 00:00:00</td>\n",
       "      <td>Агенты и менеджеры по аренде недвижимости</td>\n",
       "      <td>1870.848</td>\n",
       "    </tr>\n",
       "    <tr>\n",
       "      <th>2282464</th>\n",
       "      <td>71942984</td>\n",
       "      <td>375 00:00:00</td>\n",
       "      <td>Агенты и менеджеры по аренде недвижимости</td>\n",
       "      <td>2466.016</td>\n",
       "    </tr>\n",
       "    <tr>\n",
       "      <th>2282465</th>\n",
       "      <td>74289663</td>\n",
       "      <td>27 00:00:00</td>\n",
       "      <td>Агентства по аренде автомобилей</td>\n",
       "      <td>1445.831</td>\n",
       "    </tr>\n",
       "    <tr>\n",
       "      <th>2282466</th>\n",
       "      <td>74289663</td>\n",
       "      <td>42 00:00:00</td>\n",
       "      <td>Агентства по аренде автомобилей</td>\n",
       "      <td>2386.870</td>\n",
       "    </tr>\n",
       "  </tbody>\n",
       "</table>\n",
       "<p>2282467 rows × 4 columns</p>\n",
       "</div>"
      ],
      "text/plain": [
       "          user_id            dt  \\\n",
       "0        39026145    0 10:23:26   \n",
       "1        39026145    6 07:08:31   \n",
       "2        39026145    8 07:06:10   \n",
       "3        39026145   11 08:49:03   \n",
       "4        39026145   11 14:12:08   \n",
       "...           ...           ...   \n",
       "2282462  71902723  290 15:12:09   \n",
       "2282463  71942984  248 00:00:00   \n",
       "2282464  71942984  375 00:00:00   \n",
       "2282465  74289663   27 00:00:00   \n",
       "2282466  74289663   42 00:00:00   \n",
       "\n",
       "                                                      type     value  \n",
       "0        Звонки с использованием телефонов, считывающих...  2695.099  \n",
       "1        Звонки с использованием телефонов, считывающих...  2358.212  \n",
       "2        Звонки с использованием телефонов, считывающих...  2807.395  \n",
       "3        Звонки с использованием телефонов, считывающих...  2695.099  \n",
       "4        Звонки с использованием телефонов, считывающих...  2695.099  \n",
       "...                                                    ...       ...  \n",
       "2282462          Агенты и менеджеры по аренде недвижимости  2133.620  \n",
       "2282463          Агенты и менеджеры по аренде недвижимости  1870.848  \n",
       "2282464          Агенты и менеджеры по аренде недвижимости  2466.016  \n",
       "2282465                    Агентства по аренде автомобилей  1445.831  \n",
       "2282466                    Агентства по аренде автомобилей  2386.870  \n",
       "\n",
       "[2282467 rows x 4 columns]"
      ]
     },
     "execution_count": 3,
     "metadata": {},
     "output_type": "execute_result"
    }
   ],
   "source": [
    "# Ваш код здесь\n",
    "try:\n",
    "    transactions = pd.read_csv(\"transactions.csv\", sep=\";\")\n",
    "\n",
    "except:\n",
    "    folder_url = 'https://disk.yandex.ru/d/DGy6bbLaMZmrQg'\n",
    "    file_url = 'transactions.csv'\n",
    "    url = 'https://cloud-api.yandex.net/v1/disk/public/resources/download' + '?public_key=' + urllib.parse.quote(folder_url) + '&path=/' + urllib.parse.quote(file_url)\n",
    "\n",
    "    r = requests.get(url) # запрос ссылки на скачивание\n",
    "    h = json.loads(r.text)['href'] # 'парсинг' ссылки на скачивание\n",
    "\n",
    "    transactions = pd.read_csv(h, sep=';', error_bad_lines=False, comment='#')\n",
    "transactions"
   ]
  },
  {
   "cell_type": "markdown",
   "id": "ad3a83c9",
   "metadata": {},
   "source": [
    "## Подготовка данных [10 баллов] \n",
    "\n",
    "Для данной задачи необходимо как-то собрать данные для каждого пользователя в один вектор (строку таблицы). Сейчас, как вы можете увидеть, в таблице с данными одному пользователю может соответствовать много строк (каждая операция - отдельная строка).\n",
    "\n",
    "Таким образом, необходима агрегация данных - это можно сделать множеством разных способов."
   ]
  },
  {
   "cell_type": "markdown",
   "id": "567817e8",
   "metadata": {},
   "source": [
    "### Агрегация "
   ]
  },
  {
   "cell_type": "markdown",
   "id": "e3c812ef",
   "metadata": {},
   "source": [
    "Произведите простую агрегацию данных и для каждого пользователя в качестве признаков получите сумму, среднее и стандартное отклонение величины его транзакций. \n",
    "\n",
    "Так же добавите для каждого пользователя колонку с таргетом.\n",
    "\n",
    "По итогу вы должны получить таблицу с колонками:\n",
    "* user_id\n",
    "* value_sum\n",
    "* value_mean\n",
    "* value_std\n",
    "* gender"
   ]
  },
  {
   "cell_type": "code",
   "execution_count": 4,
   "id": "fae2c4e0",
   "metadata": {
    "scrolled": false
   },
   "outputs": [
    {
     "data": {
      "text/html": [
       "<div>\n",
       "<style scoped>\n",
       "    .dataframe tbody tr th:only-of-type {\n",
       "        vertical-align: middle;\n",
       "    }\n",
       "\n",
       "    .dataframe tbody tr th {\n",
       "        vertical-align: top;\n",
       "    }\n",
       "\n",
       "    .dataframe thead th {\n",
       "        text-align: right;\n",
       "    }\n",
       "</style>\n",
       "<table border=\"1\" class=\"dataframe\">\n",
       "  <thead>\n",
       "    <tr style=\"text-align: right;\">\n",
       "      <th></th>\n",
       "      <th>value_sum</th>\n",
       "      <th>value_mean</th>\n",
       "      <th>value_std</th>\n",
       "      <th>gender</th>\n",
       "    </tr>\n",
       "    <tr>\n",
       "      <th>user_id</th>\n",
       "      <th></th>\n",
       "      <th></th>\n",
       "      <th></th>\n",
       "      <th></th>\n",
       "    </tr>\n",
       "  </thead>\n",
       "  <tbody>\n",
       "    <tr>\n",
       "      <th>22899</th>\n",
       "      <td>274383.315</td>\n",
       "      <td>2143.619648</td>\n",
       "      <td>656.186785</td>\n",
       "      <td>1</td>\n",
       "    </tr>\n",
       "    <tr>\n",
       "      <th>27914</th>\n",
       "      <td>166436.523</td>\n",
       "      <td>2521.765500</td>\n",
       "      <td>415.972053</td>\n",
       "      <td>1</td>\n",
       "    </tr>\n",
       "    <tr>\n",
       "      <th>28753</th>\n",
       "      <td>251578.185</td>\n",
       "      <td>1980.930591</td>\n",
       "      <td>749.304999</td>\n",
       "      <td>0</td>\n",
       "    </tr>\n",
       "    <tr>\n",
       "      <th>31385</th>\n",
       "      <td>717856.052</td>\n",
       "      <td>2323.158744</td>\n",
       "      <td>632.491585</td>\n",
       "      <td>0</td>\n",
       "    </tr>\n",
       "    <tr>\n",
       "      <th>38084</th>\n",
       "      <td>1360028.958</td>\n",
       "      <td>2095.576206</td>\n",
       "      <td>649.030870</td>\n",
       "      <td>0</td>\n",
       "    </tr>\n",
       "    <tr>\n",
       "      <th>...</th>\n",
       "      <td>...</td>\n",
       "      <td>...</td>\n",
       "      <td>...</td>\n",
       "      <td>...</td>\n",
       "    </tr>\n",
       "    <tr>\n",
       "      <th>99953525</th>\n",
       "      <td>159252.786</td>\n",
       "      <td>1608.614000</td>\n",
       "      <td>709.903466</td>\n",
       "      <td>0</td>\n",
       "    </tr>\n",
       "    <tr>\n",
       "      <th>99967537</th>\n",
       "      <td>13026.313</td>\n",
       "      <td>2605.262600</td>\n",
       "      <td>123.013557</td>\n",
       "      <td>1</td>\n",
       "    </tr>\n",
       "    <tr>\n",
       "      <th>99988578</th>\n",
       "      <td>1304612.429</td>\n",
       "      <td>2185.280451</td>\n",
       "      <td>638.235664</td>\n",
       "      <td>1</td>\n",
       "    </tr>\n",
       "    <tr>\n",
       "      <th>99991245</th>\n",
       "      <td>249213.163</td>\n",
       "      <td>2026.123276</td>\n",
       "      <td>739.432221</td>\n",
       "      <td>1</td>\n",
       "    </tr>\n",
       "    <tr>\n",
       "      <th>99999680</th>\n",
       "      <td>512044.107</td>\n",
       "      <td>2015.921681</td>\n",
       "      <td>782.301092</td>\n",
       "      <td>1</td>\n",
       "    </tr>\n",
       "  </tbody>\n",
       "</table>\n",
       "<p>8356 rows × 4 columns</p>\n",
       "</div>"
      ],
      "text/plain": [
       "            value_sum   value_mean   value_std  gender\n",
       "user_id                                               \n",
       "22899      274383.315  2143.619648  656.186785       1\n",
       "27914      166436.523  2521.765500  415.972053       1\n",
       "28753      251578.185  1980.930591  749.304999       0\n",
       "31385      717856.052  2323.158744  632.491585       0\n",
       "38084     1360028.958  2095.576206  649.030870       0\n",
       "...               ...          ...         ...     ...\n",
       "99953525   159252.786  1608.614000  709.903466       0\n",
       "99967537    13026.313  2605.262600  123.013557       1\n",
       "99988578  1304612.429  2185.280451  638.235664       1\n",
       "99991245   249213.163  2026.123276  739.432221       1\n",
       "99999680   512044.107  2015.921681  782.301092       1\n",
       "\n",
       "[8356 rows x 4 columns]"
      ]
     },
     "execution_count": 4,
     "metadata": {},
     "output_type": "execute_result"
    }
   ],
   "source": [
    "# Ваш код здесь\n",
    "gender_index = gender.set_index('user_id')\n",
    "agg_data = transactions.pivot_table(index='user_id', values='value', aggfunc=['sum', 'mean', 'std'])\n",
    "agg_data.columns = ['value_sum', 'value_mean', 'value_std']\n",
    "agg_data['gender'] = gender_index['gender']\n",
    "agg_data"
   ]
  },
  {
   "cell_type": "markdown",
   "id": "3e856612",
   "metadata": {},
   "source": [
    "<div class=\"alert alert-success\">\n",
    "   Проанализируем пропуски и дубликаты\n",
    "</div>"
   ]
  },
  {
   "cell_type": "code",
   "execution_count": 5,
   "id": "d3afa452",
   "metadata": {
    "scrolled": false
   },
   "outputs": [
    {
     "data": {
      "text/plain": [
       "value_sum      0\n",
       "value_mean     0\n",
       "value_std     47\n",
       "gender         0\n",
       "dtype: int64"
      ]
     },
     "execution_count": 5,
     "metadata": {},
     "output_type": "execute_result"
    }
   ],
   "source": [
    "agg_data.isna().sum()"
   ]
  },
  {
   "cell_type": "code",
   "execution_count": 6,
   "id": "90fe0658",
   "metadata": {
    "scrolled": false
   },
   "outputs": [
    {
     "data": {
      "text/plain": [
       "25"
      ]
     },
     "execution_count": 6,
     "metadata": {},
     "output_type": "execute_result"
    }
   ],
   "source": [
    "agg_data.duplicated().sum()"
   ]
  },
  {
   "cell_type": "markdown",
   "id": "cbb9f5f9",
   "metadata": {},
   "source": [
    "<div class=\"alert alert-success\">\n",
    "  Т.к у нас всего <b>47</b> нулевых значений и <b>25</b> явных дубликатов, а в сумме это меньше <b>1%</b> от исходного размера датасета, то проще будет их просто удалить их датасета,  чтобы никак не исказить результат исследования\n",
    "</div>"
   ]
  },
  {
   "cell_type": "code",
   "execution_count": 7,
   "id": "c8cda468",
   "metadata": {
    "scrolled": false
   },
   "outputs": [],
   "source": [
    "agg_data.drop_duplicates(inplace=True)\n",
    "agg_data.dropna(inplace=True)"
   ]
  },
  {
   "cell_type": "code",
   "execution_count": 8,
   "id": "9c972ff7",
   "metadata": {
    "scrolled": false
   },
   "outputs": [
    {
     "data": {
      "text/plain": [
       "value_sum     0\n",
       "value_mean    0\n",
       "value_std     0\n",
       "gender        0\n",
       "dtype: int64"
      ]
     },
     "execution_count": 8,
     "metadata": {},
     "output_type": "execute_result"
    }
   ],
   "source": [
    "agg_data.isna().sum()"
   ]
  },
  {
   "cell_type": "code",
   "execution_count": 9,
   "id": "93a1fc5a",
   "metadata": {
    "scrolled": false
   },
   "outputs": [
    {
     "data": {
      "text/plain": [
       "0"
      ]
     },
     "execution_count": 9,
     "metadata": {},
     "output_type": "execute_result"
    }
   ],
   "source": [
    "agg_data.duplicated().sum()"
   ]
  },
  {
   "cell_type": "markdown",
   "id": "c59710a7",
   "metadata": {},
   "source": [
    "<div class=\"alert alert-success\">\n",
    "     Теперь посмотрим на распредение целевых классов и как выглядит график изменения наших признаков\n",
    "</div>"
   ]
  },
  {
   "cell_type": "code",
   "execution_count": 10,
   "id": "ee9311a7",
   "metadata": {
    "scrolled": false
   },
   "outputs": [
    {
     "data": {
      "image/png": "[encoded data removed]",
      "text/plain": [
       "<Figure size 640x480 with 1 Axes>"
      ]
     },
     "metadata": {},
     "output_type": "display_data"
    }
   ],
   "source": [
    "agg_data[\"gender\"].hist(bins=5)\n",
    "plt.xlabel(\"Значение класса\")\n",
    "plt.ylabel(\"Количество элементов\")\n",
    "plt.title(\"Распределение классов\")\n",
    "plt.show();"
   ]
  },
  {
   "cell_type": "code",
   "execution_count": 11,
   "id": "ef2f70da",
   "metadata": {
    "scrolled": false
   },
   "outputs": [
    {
     "data": {
      "image/png": "[encoded data removed]",
      "text/plain": [
       "<Figure size 640x480 with 1 Axes>"
      ]
     },
     "metadata": {},
     "output_type": "display_data"
    },
    {
     "data": {
      "image/png": "[encoded data removed]",
      "text/plain": [
       "<Figure size 640x480 with 1 Axes>"
      ]
     },
     "metadata": {},
     "output_type": "display_data"
    },
    {
     "data": {
      "image/png": "[encoded data removed]",
      "text/plain": [
       "<Figure size 640x480 with 1 Axes>"
      ]
     },
     "metadata": {},
     "output_type": "display_data"
    }
   ],
   "source": [
    "for feature in agg_data.columns[:-1]:\n",
    "    plt.plot(agg_data[feature])\n",
    "    plt.title(f\"График значений признака: {feature}\")\n",
    "    plt.ylabel(\"Значение параметра\")\n",
    "    plt.show();"
   ]
  },
  {
   "cell_type": "markdown",
   "id": "9e0f2382",
   "metadata": {},
   "source": [
    "<div class=\"alert alert-success\">\n",
    "     Если во всех признаках все в целом более менее красиво, то вот в признаке <b>value_sum</b>, мы видим явную амоналию, от которой необходимо избавиться.\n",
    "</div>"
   ]
  },
  {
   "cell_type": "code",
   "execution_count": 12,
   "id": "a81d6520",
   "metadata": {
    "scrolled": false
   },
   "outputs": [
    {
     "data": {
      "text/html": [
       "<div>\n",
       "<style scoped>\n",
       "    .dataframe tbody tr th:only-of-type {\n",
       "        vertical-align: middle;\n",
       "    }\n",
       "\n",
       "    .dataframe tbody tr th {\n",
       "        vertical-align: top;\n",
       "    }\n",
       "\n",
       "    .dataframe thead th {\n",
       "        text-align: right;\n",
       "    }\n",
       "</style>\n",
       "<table border=\"1\" class=\"dataframe\">\n",
       "  <thead>\n",
       "    <tr style=\"text-align: right;\">\n",
       "      <th></th>\n",
       "      <th>value_sum</th>\n",
       "      <th>value_mean</th>\n",
       "      <th>value_std</th>\n",
       "      <th>gender</th>\n",
       "    </tr>\n",
       "    <tr>\n",
       "      <th>user_id</th>\n",
       "      <th></th>\n",
       "      <th></th>\n",
       "      <th></th>\n",
       "      <th></th>\n",
       "    </tr>\n",
       "  </thead>\n",
       "  <tbody>\n",
       "    <tr>\n",
       "      <th>22899</th>\n",
       "      <td>274383.315</td>\n",
       "      <td>2143.619648</td>\n",
       "      <td>656.186785</td>\n",
       "      <td>1</td>\n",
       "    </tr>\n",
       "    <tr>\n",
       "      <th>27914</th>\n",
       "      <td>166436.523</td>\n",
       "      <td>2521.765500</td>\n",
       "      <td>415.972053</td>\n",
       "      <td>1</td>\n",
       "    </tr>\n",
       "    <tr>\n",
       "      <th>28753</th>\n",
       "      <td>251578.185</td>\n",
       "      <td>1980.930591</td>\n",
       "      <td>749.304999</td>\n",
       "      <td>0</td>\n",
       "    </tr>\n",
       "    <tr>\n",
       "      <th>31385</th>\n",
       "      <td>717856.052</td>\n",
       "      <td>2323.158744</td>\n",
       "      <td>632.491585</td>\n",
       "      <td>0</td>\n",
       "    </tr>\n",
       "    <tr>\n",
       "      <th>38084</th>\n",
       "      <td>1360028.958</td>\n",
       "      <td>2095.576206</td>\n",
       "      <td>649.030870</td>\n",
       "      <td>0</td>\n",
       "    </tr>\n",
       "  </tbody>\n",
       "</table>\n",
       "</div>"
      ],
      "text/plain": [
       "           value_sum   value_mean   value_std  gender\n",
       "user_id                                              \n",
       "22899     274383.315  2143.619648  656.186785       1\n",
       "27914     166436.523  2521.765500  415.972053       1\n",
       "28753     251578.185  1980.930591  749.304999       0\n",
       "31385     717856.052  2323.158744  632.491585       0\n",
       "38084    1360028.958  2095.576206  649.030870       0"
      ]
     },
     "execution_count": 12,
     "metadata": {},
     "output_type": "execute_result"
    }
   ],
   "source": [
    "agg_data = agg_data[agg_data[\"value_sum\"] < 2e7]\n",
    "agg_data.head()"
   ]
  },
  {
   "cell_type": "markdown",
   "id": "194e73a7",
   "metadata": {},
   "source": [
    "### Отложенная выборка "
   ]
  },
  {
   "cell_type": "markdown",
   "id": "d3f431ee",
   "metadata": {},
   "source": [
    "Получите полный список пользователей и разделите их на два списка:\n",
    "* тренировочный список пользователей (80%)\n",
    "* тестовый список пользователей (20%)"
   ]
  },
  {
   "cell_type": "markdown",
   "id": "646a73cf",
   "metadata": {},
   "source": [
    "__Важное замечание__: Далее во всех пунктах, где вам нужно провалидировать (оценить) получившуюся модель исползуйте данные только для этих тестовых пользователей.\n",
    "\n",
    "Обучать все модели, естественно, нужно только на данных пользователей из обучающего списка."
   ]
  },
  {
   "cell_type": "code",
   "execution_count": 13,
   "id": "c2ffd8a7",
   "metadata": {
    "scrolled": false
   },
   "outputs": [],
   "source": [
    "X_train, X_test, Y_train, Y_test = train_test_split(agg_data.drop([\"gender\"], axis=1), agg_data[\"gender\"], test_size=0.2)"
   ]
  },
  {
   "cell_type": "markdown",
   "id": "c4e54aa8",
   "metadata": {},
   "source": [
    "Для нашей задачи получите признаки и целевые метки обучающей и тестовой выборки. "
   ]
  },
  {
   "cell_type": "markdown",
   "id": "9d7596a0",
   "metadata": {},
   "source": [
    "<div class=\"alert alert-success\">\n",
    "    Сделала это сразу при разбиении выборки\n",
    "</div>"
   ]
  },
  {
   "cell_type": "markdown",
   "id": "852a5e0c",
   "metadata": {},
   "source": [
    "## Обучение и оценка модели [5 баллов] "
   ]
  },
  {
   "cell_type": "markdown",
   "id": "0d3a14bb",
   "metadata": {},
   "source": [
    "Обучите модель логистической регрессии с дефолтными параметрами.\n",
    "\n",
    "Получите предсказания вероятностей первого класса."
   ]
  },
  {
   "cell_type": "code",
   "execution_count": 14,
   "id": "9b458875",
   "metadata": {
    "scrolled": false
   },
   "outputs": [],
   "source": [
    "lr = LogisticRegression().fit(X_train, Y_train)"
   ]
  },
  {
   "cell_type": "code",
   "execution_count": 15,
   "id": "680efdf8",
   "metadata": {},
   "outputs": [],
   "source": [
    "def take_pred_from_proba(proba, level=0.5):\n",
    "    if proba >= level: return 1\n",
    "    return 0\n",
    "\n",
    "take_pred_from_proba = np.vectorize(take_pred_from_proba)"
   ]
  },
  {
   "cell_type": "code",
   "execution_count": 16,
   "id": "4f681a9b",
   "metadata": {},
   "outputs": [
    {
     "data": {
      "text/plain": [
       "(array([0.44795879, 0.43217652, 0.41950833, ..., 0.45018834, 0.47290787,\n",
       "        0.50164902]),\n",
       " array([0, 0, 0, ..., 0, 0, 1]))"
      ]
     },
     "execution_count": 16,
     "metadata": {},
     "output_type": "execute_result"
    }
   ],
   "source": [
    "probas = lr.predict_proba(X_test)[:, 1]\n",
    "preds = take_pred_from_proba(probas)\n",
    "probas, preds"
   ]
  },
  {
   "cell_type": "markdown",
   "id": "f2345148",
   "metadata": {},
   "source": [
    "### Валидация "
   ]
  },
  {
   "cell_type": "markdown",
   "id": "ee3576b3",
   "metadata": {},
   "source": [
    "Посчитайте ROC_AUC, accuracy, precision, recall для получившихся предсказаний.\n",
    "\n",
    "Для метрик, для которых необходимы метки классов, а не вероятности - используйте порог 0.5.\n",
    "\n",
    "Далее при оценки других моделей приводите эти же метрики (если явно не указано иное)."
   ]
  },
  {
   "cell_type": "code",
   "execution_count": 17,
   "id": "434f611a",
   "metadata": {
    "scrolled": false
   },
   "outputs": [
    {
     "name": "stdout",
     "output_type": "stream",
     "text": [
      "ROC AUC SCORE IS 0.5852193090939072\n"
     ]
    }
   ],
   "source": [
    "# Ваш код здесь\n",
    "print(f\"ROC AUC SCORE IS {roc_auc_score(Y_test, probas):3.f}\")"
   ]
  },
  {
   "cell_type": "code",
   "execution_count": 18,
   "id": "3a0e03c3",
   "metadata": {},
   "outputs": [
    {
     "name": "stdout",
     "output_type": "stream",
     "text": [
      "PRECISION SCORE IS 0.6481481481481481\n"
     ]
    }
   ],
   "source": [
    "print(f\"PRECISION SCORE IS {precision_score(Y_test, preds):3.f}\")"
   ]
  },
  {
   "cell_type": "code",
   "execution_count": 19,
   "id": "16ac7373",
   "metadata": {},
   "outputs": [
    {
     "name": "stdout",
     "output_type": "stream",
     "text": [
      "RECALL SCORE IS 0.04807692307692308\n"
     ]
    }
   ],
   "source": [
    "print(f\"RECALL SCORE IS {recall_score(Y_test, preds):3.f}\")"
   ]
  },
  {
   "cell_type": "code",
   "execution_count": 20,
   "id": "a5c4da94",
   "metadata": {},
   "outputs": [
    {
     "name": "stdout",
     "output_type": "stream",
     "text": [
      "ACCURACY SCORE IS 0.5713425647200482\n"
     ]
    }
   ],
   "source": [
    "print(f\"ACCURACY SCORE IS {accuracy_score(Y_test, preds):3.f}\")"
   ]
  },
  {
   "cell_type": "markdown",
   "id": "9c06a7c5",
   "metadata": {},
   "source": [
    "### Вывод"
   ]
  },
  {
   "cell_type": "markdown",
   "id": "6e95c3d8",
   "metadata": {},
   "source": [
    "Как вы оцениваете качество получившейся модели и возможные причины такого качества?\n",
    "\n",
    "__Ваш вывод:__\n",
    "<div class=\"alert alert-success\">\n",
    "    Качество модели очень низкое, что-то около рандома.<br>\n",
    "    Так происходит по нескольким причинам:\n",
    "    <ol>\n",
    "        <li>Не оптимизированы гиперпараметры</li>\n",
    "        <li>Так как модель является линейной, то хотелось бы иметь стандартизированные данные</li>\n",
    "        <li>Могла быть допущена ошибка во время предобработки данных</li>\n",
    "    </ol>\n",
    "</div>"
   ]
  },
  {
   "cell_type": "markdown",
   "id": "e94a47be",
   "metadata": {},
   "source": [
    "# Часть 2: мб сделаем что-то более серьёзное? [макс 20 баллов]"
   ]
  },
  {
   "cell_type": "markdown",
   "id": "6724dd97",
   "metadata": {},
   "source": [
    "Давайте попробуем улучшить качество решения задачи за счёт другого метода подготовки данных.\n",
    "\n",
    "Ранее мы использовали простое преобразование, когда каждый клиент описывался только 3 значениями.\n",
    "Давайте сделаем что-то более сложное и попробуем добавить больше данных о клиенте для модели."
   ]
  },
  {
   "cell_type": "markdown",
   "id": "c5cf8456",
   "metadata": {},
   "source": [
    "## Подготовка данных [15 баллов]"
   ]
  },
  {
   "cell_type": "markdown",
   "id": "d30f62ce",
   "metadata": {},
   "source": [
    "Воспользуемся тем, что каждая транзакция у нас имеет свой тип - это уж точно более информативно, чем агрегация по всем транзакциям.\n",
    "\n",
    "Создайте сводную таблицу, где для каждого клиента (строка) будут указаны его суммарные траты на каждую категорию (столбец). Таким образом, вы должны получить таблицу с числом строк равным количеству клиентов и числом столбцов - количеству категорий трат. Каждая ячейка должна содержать суммарные траты данного клиента в данной категории.\n",
    "\n",
    "__Подсказка__: у DataFrame есть полезный метод `pivot_table`."
   ]
  },
  {
   "cell_type": "code",
   "execution_count": 21,
   "id": "4933a95d",
   "metadata": {},
   "outputs": [
    {
     "data": {
      "text/html": [
       "<div>\n",
       "<style scoped>\n",
       "    .dataframe tbody tr th:only-of-type {\n",
       "        vertical-align: middle;\n",
       "    }\n",
       "\n",
       "    .dataframe tbody tr th {\n",
       "        vertical-align: top;\n",
       "    }\n",
       "\n",
       "    .dataframe thead th {\n",
       "        text-align: right;\n",
       "    }\n",
       "</style>\n",
       "<table border=\"1\" class=\"dataframe\">\n",
       "  <thead>\n",
       "    <tr style=\"text-align: right;\">\n",
       "      <th>type</th>\n",
       "      <th>Авиалинии, авиакомпании</th>\n",
       "      <th>Авиалинии, авиакомпании, нигде более не классифицированные</th>\n",
       "      <th>Автобусные линии</th>\n",
       "      <th>Автозапчасти и аксессуары</th>\n",
       "      <th>Автоматизированные бензозаправки</th>\n",
       "      <th>Автомойки</th>\n",
       "      <th>Автошины</th>\n",
       "      <th>Агентства по автотранспортным перевозкам, местные/дальные автогрузоперевозки, компании попереезду и хранению, местная доставка</th>\n",
       "      <th>Агентства по аренде автомобилей</th>\n",
       "      <th>Агенты и менеджеры по аренде недвижимости</th>\n",
       "      <th>...</th>\n",
       "      <th>Химикалии и смежные вещества, не классифицированные ранее</th>\n",
       "      <th>Химчистки</th>\n",
       "      <th>Ценные бумаги: брокеры/дилеры</th>\n",
       "      <th>Центры здоровья</th>\n",
       "      <th>Цифровые товары, игры</th>\n",
       "      <th>Школы — бизнес и секретарей</th>\n",
       "      <th>Штрафы</th>\n",
       "      <th>Штучные товары, галантерея и другие текстильные товары</th>\n",
       "      <th>Электрические части и оборудование</th>\n",
       "      <th>gender</th>\n",
       "    </tr>\n",
       "    <tr>\n",
       "      <th>user_id</th>\n",
       "      <th></th>\n",
       "      <th></th>\n",
       "      <th></th>\n",
       "      <th></th>\n",
       "      <th></th>\n",
       "      <th></th>\n",
       "      <th></th>\n",
       "      <th></th>\n",
       "      <th></th>\n",
       "      <th></th>\n",
       "      <th></th>\n",
       "      <th></th>\n",
       "      <th></th>\n",
       "      <th></th>\n",
       "      <th></th>\n",
       "      <th></th>\n",
       "      <th></th>\n",
       "      <th></th>\n",
       "      <th></th>\n",
       "      <th></th>\n",
       "      <th></th>\n",
       "    </tr>\n",
       "  </thead>\n",
       "  <tbody>\n",
       "    <tr>\n",
       "      <th>22899</th>\n",
       "      <td>NaN</td>\n",
       "      <td>NaN</td>\n",
       "      <td>NaN</td>\n",
       "      <td>NaN</td>\n",
       "      <td>NaN</td>\n",
       "      <td>NaN</td>\n",
       "      <td>NaN</td>\n",
       "      <td>NaN</td>\n",
       "      <td>NaN</td>\n",
       "      <td>NaN</td>\n",
       "      <td>...</td>\n",
       "      <td>NaN</td>\n",
       "      <td>NaN</td>\n",
       "      <td>NaN</td>\n",
       "      <td>NaN</td>\n",
       "      <td>NaN</td>\n",
       "      <td>NaN</td>\n",
       "      <td>NaN</td>\n",
       "      <td>NaN</td>\n",
       "      <td>NaN</td>\n",
       "      <td>1</td>\n",
       "    </tr>\n",
       "    <tr>\n",
       "      <th>27914</th>\n",
       "      <td>NaN</td>\n",
       "      <td>NaN</td>\n",
       "      <td>NaN</td>\n",
       "      <td>NaN</td>\n",
       "      <td>NaN</td>\n",
       "      <td>NaN</td>\n",
       "      <td>NaN</td>\n",
       "      <td>NaN</td>\n",
       "      <td>NaN</td>\n",
       "      <td>NaN</td>\n",
       "      <td>...</td>\n",
       "      <td>NaN</td>\n",
       "      <td>NaN</td>\n",
       "      <td>NaN</td>\n",
       "      <td>NaN</td>\n",
       "      <td>NaN</td>\n",
       "      <td>NaN</td>\n",
       "      <td>NaN</td>\n",
       "      <td>NaN</td>\n",
       "      <td>NaN</td>\n",
       "      <td>1</td>\n",
       "    </tr>\n",
       "    <tr>\n",
       "      <th>28753</th>\n",
       "      <td>NaN</td>\n",
       "      <td>NaN</td>\n",
       "      <td>NaN</td>\n",
       "      <td>NaN</td>\n",
       "      <td>NaN</td>\n",
       "      <td>NaN</td>\n",
       "      <td>NaN</td>\n",
       "      <td>NaN</td>\n",
       "      <td>NaN</td>\n",
       "      <td>NaN</td>\n",
       "      <td>...</td>\n",
       "      <td>NaN</td>\n",
       "      <td>NaN</td>\n",
       "      <td>NaN</td>\n",
       "      <td>NaN</td>\n",
       "      <td>NaN</td>\n",
       "      <td>NaN</td>\n",
       "      <td>NaN</td>\n",
       "      <td>NaN</td>\n",
       "      <td>NaN</td>\n",
       "      <td>0</td>\n",
       "    </tr>\n",
       "    <tr>\n",
       "      <th>31385</th>\n",
       "      <td>NaN</td>\n",
       "      <td>NaN</td>\n",
       "      <td>NaN</td>\n",
       "      <td>NaN</td>\n",
       "      <td>NaN</td>\n",
       "      <td>NaN</td>\n",
       "      <td>NaN</td>\n",
       "      <td>NaN</td>\n",
       "      <td>NaN</td>\n",
       "      <td>NaN</td>\n",
       "      <td>...</td>\n",
       "      <td>NaN</td>\n",
       "      <td>NaN</td>\n",
       "      <td>NaN</td>\n",
       "      <td>NaN</td>\n",
       "      <td>NaN</td>\n",
       "      <td>NaN</td>\n",
       "      <td>NaN</td>\n",
       "      <td>NaN</td>\n",
       "      <td>NaN</td>\n",
       "      <td>0</td>\n",
       "    </tr>\n",
       "    <tr>\n",
       "      <th>38084</th>\n",
       "      <td>NaN</td>\n",
       "      <td>NaN</td>\n",
       "      <td>NaN</td>\n",
       "      <td>NaN</td>\n",
       "      <td>NaN</td>\n",
       "      <td>NaN</td>\n",
       "      <td>NaN</td>\n",
       "      <td>NaN</td>\n",
       "      <td>NaN</td>\n",
       "      <td>NaN</td>\n",
       "      <td>...</td>\n",
       "      <td>NaN</td>\n",
       "      <td>NaN</td>\n",
       "      <td>NaN</td>\n",
       "      <td>NaN</td>\n",
       "      <td>NaN</td>\n",
       "      <td>NaN</td>\n",
       "      <td>NaN</td>\n",
       "      <td>NaN</td>\n",
       "      <td>NaN</td>\n",
       "      <td>0</td>\n",
       "    </tr>\n",
       "  </tbody>\n",
       "</table>\n",
       "<p>5 rows × 185 columns</p>\n",
       "</div>"
      ],
      "text/plain": [
       "type     Авиалинии, авиакомпании  \\\n",
       "user_id                            \n",
       "22899                        NaN   \n",
       "27914                        NaN   \n",
       "28753                        NaN   \n",
       "31385                        NaN   \n",
       "38084                        NaN   \n",
       "\n",
       "type     Авиалинии, авиакомпании, нигде более не классифицированные  \\\n",
       "user_id                                                               \n",
       "22899                                                  NaN            \n",
       "27914                                                  NaN            \n",
       "28753                                                  NaN            \n",
       "31385                                                  NaN            \n",
       "38084                                                  NaN            \n",
       "\n",
       "type     Автобусные линии  Автозапчасти и аксессуары  \\\n",
       "user_id                                                \n",
       "22899                 NaN                        NaN   \n",
       "27914                 NaN                        NaN   \n",
       "28753                 NaN                        NaN   \n",
       "31385                 NaN                        NaN   \n",
       "38084                 NaN                        NaN   \n",
       "\n",
       "type     Автоматизированные бензозаправки  Автомойки  Автошины  \\\n",
       "user_id                                                          \n",
       "22899                                 NaN        NaN       NaN   \n",
       "27914                                 NaN        NaN       NaN   \n",
       "28753                                 NaN        NaN       NaN   \n",
       "31385                                 NaN        NaN       NaN   \n",
       "38084                                 NaN        NaN       NaN   \n",
       "\n",
       "type     Агентства по автотранспортным перевозкам, местные/дальные автогрузоперевозки, компании попереезду и хранению, местная доставка  \\\n",
       "user_id                                                                                                                                   \n",
       "22899                                                  NaN                                                                                \n",
       "27914                                                  NaN                                                                                \n",
       "28753                                                  NaN                                                                                \n",
       "31385                                                  NaN                                                                                \n",
       "38084                                                  NaN                                                                                \n",
       "\n",
       "type     Агентства по аренде автомобилей  \\\n",
       "user_id                                    \n",
       "22899                                NaN   \n",
       "27914                                NaN   \n",
       "28753                                NaN   \n",
       "31385                                NaN   \n",
       "38084                                NaN   \n",
       "\n",
       "type     Агенты и менеджеры по аренде недвижимости  ...  \\\n",
       "user_id                                             ...   \n",
       "22899                                          NaN  ...   \n",
       "27914                                          NaN  ...   \n",
       "28753                                          NaN  ...   \n",
       "31385                                          NaN  ...   \n",
       "38084                                          NaN  ...   \n",
       "\n",
       "type     Химикалии и смежные вещества, не классифицированные ранее  Химчистки  \\\n",
       "user_id                                                                         \n",
       "22899                                                  NaN                NaN   \n",
       "27914                                                  NaN                NaN   \n",
       "28753                                                  NaN                NaN   \n",
       "31385                                                  NaN                NaN   \n",
       "38084                                                  NaN                NaN   \n",
       "\n",
       "type     Ценные бумаги: брокеры/дилеры  Центры здоровья  \\\n",
       "user_id                                                   \n",
       "22899                              NaN              NaN   \n",
       "27914                              NaN              NaN   \n",
       "28753                              NaN              NaN   \n",
       "31385                              NaN              NaN   \n",
       "38084                              NaN              NaN   \n",
       "\n",
       "type     Цифровые товары, игры  Школы — бизнес и секретарей  Штрафы  \\\n",
       "user_id                                                               \n",
       "22899                      NaN                          NaN     NaN   \n",
       "27914                      NaN                          NaN     NaN   \n",
       "28753                      NaN                          NaN     NaN   \n",
       "31385                      NaN                          NaN     NaN   \n",
       "38084                      NaN                          NaN     NaN   \n",
       "\n",
       "type     Штучные товары, галантерея и другие текстильные товары  \\\n",
       "user_id                                                           \n",
       "22899                                                  NaN        \n",
       "27914                                                  NaN        \n",
       "28753                                                  NaN        \n",
       "31385                                                  NaN        \n",
       "38084                                                  NaN        \n",
       "\n",
       "type     Электрические части и оборудование  gender  \n",
       "user_id                                              \n",
       "22899                                   NaN       1  \n",
       "27914                                   NaN       1  \n",
       "28753                                   NaN       0  \n",
       "31385                                   NaN       0  \n",
       "38084                                   NaN       0  \n",
       "\n",
       "[5 rows x 185 columns]"
      ]
     },
     "execution_count": 21,
     "metadata": {},
     "output_type": "execute_result"
    }
   ],
   "source": [
    "agg_data_1 = transactions.pivot_table(index=[\"user_id\"], columns=[\"type\"], values=[\"value\"], aggfunc=\"sum\")[\"value\"]\n",
    "agg_data_1['gender'] = gender_index['gender']\n",
    "agg_data_1.head()"
   ]
  },
  {
   "cell_type": "markdown",
   "id": "52b08192",
   "metadata": {},
   "source": [
    "<div class=\"alert alert-success\">\n",
    "    Чтобы не было проблем с обучением, заменим все <b>NaN</b> на <b>0</b>, тем самым обозначив, что траты в данной категории = <b>0</b>\n",
    "</div>"
   ]
  },
  {
   "cell_type": "code",
   "execution_count": 22,
   "id": "788d12f9",
   "metadata": {},
   "outputs": [],
   "source": [
    "agg_data_1.fillna(0, inplace=True)"
   ]
  },
  {
   "cell_type": "markdown",
   "id": "ad21c6ef",
   "metadata": {},
   "source": [
    "## Обучение и валидация модели [5 баллов]"
   ]
  },
  {
   "cell_type": "markdown",
   "id": "39a87010",
   "metadata": {},
   "source": [
    "Аналогично предыдущей части разделите данные на обучающую и тестовую выборку (80%/20%), обучите модель на дефолтных параметрах и оцените качество."
   ]
  },
  {
   "cell_type": "code",
   "execution_count": 23,
   "id": "8aa668ce",
   "metadata": {
    "scrolled": false
   },
   "outputs": [],
   "source": [
    "# Ваш код здесь\n",
    "X_train, X_test, Y_train, Y_test = train_test_split(agg_data_1.drop([\"gender\"], axis=1), agg_data_1[\"gender\"], test_size=0.2)"
   ]
  },
  {
   "cell_type": "code",
   "execution_count": 24,
   "id": "c1c82887",
   "metadata": {},
   "outputs": [],
   "source": [
    "lr = LogisticRegression().fit(X_train, Y_train)"
   ]
  },
  {
   "cell_type": "code",
   "execution_count": 25,
   "id": "49e8d51f",
   "metadata": {},
   "outputs": [
    {
     "data": {
      "text/plain": [
       "(array([0.70019649, 0.23623712, 0.03506538, ..., 0.77614383, 0.04550608,\n",
       "        0.81422123]),\n",
       " array([1, 0, 0, ..., 1, 0, 1]))"
      ]
     },
     "execution_count": 25,
     "metadata": {},
     "output_type": "execute_result"
    }
   ],
   "source": [
    "probas = lr.predict_proba(X_test)[:, 1]\n",
    "preds = take_pred_from_proba(probas)\n",
    "probas, preds"
   ]
  },
  {
   "cell_type": "code",
   "execution_count": 26,
   "id": "ad458154",
   "metadata": {},
   "outputs": [
    {
     "name": "stdout",
     "output_type": "stream",
     "text": [
      "ROC AUC SCORE IS 0.8143027072019723\n",
      "PRECISION SCORE IS 0.7448377581120944\n",
      "RECALL SCORE IS 0.6566970091027308\n",
      "ACCURACY SCORE IS 0.7386363636363636\n"
     ]
    }
   ],
   "source": [
    "# Ваш код здесь\n",
    "print(f\"ROC AUC SCORE IS {roc_auc_score(Y_test, probas):3.f}\")\n",
    "print(f\"PRECISION SCORE IS {precision_score(Y_test, preds):3.f}\")\n",
    "print(f\"RECALL SCORE IS {recall_score(Y_test, preds):3.f}\")\n",
    "print(f\"ACCURACY SCORE IS {accuracy_score(Y_test, preds):3.f}\")"
   ]
  },
  {
   "cell_type": "markdown",
   "id": "8f67c1fb",
   "metadata": {},
   "source": [
    "### Вывод "
   ]
  },
  {
   "cell_type": "markdown",
   "id": "3988e390",
   "metadata": {},
   "source": [
    "Изменилось ли качество модели? Почему?\n",
    "\n",
    "__Ваш вывод:__\n",
    "<div class=\"alert alert-success\">\n",
    "    Качество модели заметно улучшилось,  поскольку мы расширили количество учитываемых при обучении признаков. Поэтому несмотря на то, что мы еще не подобрали гиперпараметры более подходящие для этой задачи, метрики показывают гораздо более высокие значения.\n",
    "</div>"
   ]
  },
  {
   "cell_type": "markdown",
   "id": "39eb4d89",
   "metadata": {},
   "source": [
    "# Часть 3: что мы всё про данные? Давайте про модель \n",
    "# [макс 30 баллов]"
   ]
  },
  {
   "cell_type": "markdown",
   "id": "132aaef6",
   "metadata": {},
   "source": [
    "Ранее мы работали только над подготовкой обучающей выборки. Давайте теперь попробуем изменить модель, чтобы добиться наилучшего качества. \n",
    "\n",
    "Входные данные для этой части - выборка с предыдущей."
   ]
  },
  {
   "cell_type": "markdown",
   "id": "381b15b7",
   "metadata": {},
   "source": [
    "## Нормирование данных [5 баллов] "
   ]
  },
  {
   "cell_type": "markdown",
   "id": "0a268750",
   "metadata": {},
   "source": [
    "Как мы знаем, линейные модели любят нормированные данные.\n",
    "\n",
    "Приведите значения всех признаков в отрезок [0, 1]\n",
    "\n",
    "__Замечание__: если вы используете метод, который удаляет информацию о названиях колонок - сохраните эти названия в отдельную переменную, вам это потом может понадобиться."
   ]
  },
  {
   "cell_type": "code",
   "execution_count": 27,
   "id": "7c34f5de",
   "metadata": {
    "scrolled": false
   },
   "outputs": [
    {
     "data": {
      "text/html": [
       "<div>\n",
       "<style scoped>\n",
       "    .dataframe tbody tr th:only-of-type {\n",
       "        vertical-align: middle;\n",
       "    }\n",
       "\n",
       "    .dataframe tbody tr th {\n",
       "        vertical-align: top;\n",
       "    }\n",
       "\n",
       "    .dataframe thead th {\n",
       "        text-align: right;\n",
       "    }\n",
       "</style>\n",
       "<table border=\"1\" class=\"dataframe\">\n",
       "  <thead>\n",
       "    <tr style=\"text-align: right;\">\n",
       "      <th>type</th>\n",
       "      <th>Авиалинии, авиакомпании</th>\n",
       "      <th>Авиалинии, авиакомпании, нигде более не классифицированные</th>\n",
       "      <th>Автобусные линии</th>\n",
       "      <th>Автозапчасти и аксессуары</th>\n",
       "      <th>Автоматизированные бензозаправки</th>\n",
       "      <th>Автомойки</th>\n",
       "      <th>Автошины</th>\n",
       "      <th>Агентства по автотранспортным перевозкам, местные/дальные автогрузоперевозки, компании попереезду и хранению, местная доставка</th>\n",
       "      <th>Агентства по аренде автомобилей</th>\n",
       "      <th>Агенты и менеджеры по аренде недвижимости</th>\n",
       "      <th>...</th>\n",
       "      <th>Химикалии и смежные вещества, не классифицированные ранее</th>\n",
       "      <th>Химчистки</th>\n",
       "      <th>Ценные бумаги: брокеры/дилеры</th>\n",
       "      <th>Центры здоровья</th>\n",
       "      <th>Цифровые товары, игры</th>\n",
       "      <th>Школы — бизнес и секретарей</th>\n",
       "      <th>Штрафы</th>\n",
       "      <th>Штучные товары, галантерея и другие текстильные товары</th>\n",
       "      <th>Электрические части и оборудование</th>\n",
       "      <th>gender</th>\n",
       "    </tr>\n",
       "    <tr>\n",
       "      <th>user_id</th>\n",
       "      <th></th>\n",
       "      <th></th>\n",
       "      <th></th>\n",
       "      <th></th>\n",
       "      <th></th>\n",
       "      <th></th>\n",
       "      <th></th>\n",
       "      <th></th>\n",
       "      <th></th>\n",
       "      <th></th>\n",
       "      <th></th>\n",
       "      <th></th>\n",
       "      <th></th>\n",
       "      <th></th>\n",
       "      <th></th>\n",
       "      <th></th>\n",
       "      <th></th>\n",
       "      <th></th>\n",
       "      <th></th>\n",
       "      <th></th>\n",
       "      <th></th>\n",
       "    </tr>\n",
       "  </thead>\n",
       "  <tbody>\n",
       "    <tr>\n",
       "      <th>99953525</th>\n",
       "      <td>0.0</td>\n",
       "      <td>0.0</td>\n",
       "      <td>0.0</td>\n",
       "      <td>0.000000</td>\n",
       "      <td>0.0</td>\n",
       "      <td>0.0</td>\n",
       "      <td>0.0</td>\n",
       "      <td>0.0</td>\n",
       "      <td>0.0</td>\n",
       "      <td>0.0</td>\n",
       "      <td>...</td>\n",
       "      <td>0.0</td>\n",
       "      <td>0.0</td>\n",
       "      <td>0.0</td>\n",
       "      <td>0.0</td>\n",
       "      <td>0.000000</td>\n",
       "      <td>0.0</td>\n",
       "      <td>0.0</td>\n",
       "      <td>0.0</td>\n",
       "      <td>0.0</td>\n",
       "      <td>0.0</td>\n",
       "    </tr>\n",
       "    <tr>\n",
       "      <th>99967537</th>\n",
       "      <td>0.0</td>\n",
       "      <td>0.0</td>\n",
       "      <td>0.0</td>\n",
       "      <td>0.000000</td>\n",
       "      <td>0.0</td>\n",
       "      <td>0.0</td>\n",
       "      <td>0.0</td>\n",
       "      <td>0.0</td>\n",
       "      <td>0.0</td>\n",
       "      <td>0.0</td>\n",
       "      <td>...</td>\n",
       "      <td>0.0</td>\n",
       "      <td>0.0</td>\n",
       "      <td>0.0</td>\n",
       "      <td>0.0</td>\n",
       "      <td>0.000000</td>\n",
       "      <td>0.0</td>\n",
       "      <td>0.0</td>\n",
       "      <td>0.0</td>\n",
       "      <td>0.0</td>\n",
       "      <td>1.0</td>\n",
       "    </tr>\n",
       "    <tr>\n",
       "      <th>99988578</th>\n",
       "      <td>0.0</td>\n",
       "      <td>0.0</td>\n",
       "      <td>0.0</td>\n",
       "      <td>0.000000</td>\n",
       "      <td>0.0</td>\n",
       "      <td>0.0</td>\n",
       "      <td>0.0</td>\n",
       "      <td>0.0</td>\n",
       "      <td>0.0</td>\n",
       "      <td>0.0</td>\n",
       "      <td>...</td>\n",
       "      <td>0.0</td>\n",
       "      <td>0.0</td>\n",
       "      <td>0.0</td>\n",
       "      <td>0.0</td>\n",
       "      <td>0.058444</td>\n",
       "      <td>0.0</td>\n",
       "      <td>0.0</td>\n",
       "      <td>0.0</td>\n",
       "      <td>0.0</td>\n",
       "      <td>1.0</td>\n",
       "    </tr>\n",
       "    <tr>\n",
       "      <th>99991245</th>\n",
       "      <td>0.0</td>\n",
       "      <td>0.0</td>\n",
       "      <td>0.0</td>\n",
       "      <td>0.010513</td>\n",
       "      <td>0.0</td>\n",
       "      <td>0.0</td>\n",
       "      <td>0.0</td>\n",
       "      <td>0.0</td>\n",
       "      <td>0.0</td>\n",
       "      <td>0.0</td>\n",
       "      <td>...</td>\n",
       "      <td>0.0</td>\n",
       "      <td>0.0</td>\n",
       "      <td>0.0</td>\n",
       "      <td>0.0</td>\n",
       "      <td>0.000000</td>\n",
       "      <td>0.0</td>\n",
       "      <td>0.0</td>\n",
       "      <td>0.0</td>\n",
       "      <td>0.0</td>\n",
       "      <td>1.0</td>\n",
       "    </tr>\n",
       "    <tr>\n",
       "      <th>99999680</th>\n",
       "      <td>0.0</td>\n",
       "      <td>0.0</td>\n",
       "      <td>0.0</td>\n",
       "      <td>0.000000</td>\n",
       "      <td>0.0</td>\n",
       "      <td>0.0</td>\n",
       "      <td>0.0</td>\n",
       "      <td>0.0</td>\n",
       "      <td>0.0</td>\n",
       "      <td>0.0</td>\n",
       "      <td>...</td>\n",
       "      <td>0.0</td>\n",
       "      <td>0.0</td>\n",
       "      <td>0.0</td>\n",
       "      <td>0.0</td>\n",
       "      <td>0.000000</td>\n",
       "      <td>0.0</td>\n",
       "      <td>0.0</td>\n",
       "      <td>0.0</td>\n",
       "      <td>0.0</td>\n",
       "      <td>1.0</td>\n",
       "    </tr>\n",
       "  </tbody>\n",
       "</table>\n",
       "<p>5 rows × 185 columns</p>\n",
       "</div>"
      ],
      "text/plain": [
       "type      Авиалинии, авиакомпании  \\\n",
       "user_id                             \n",
       "99953525                      0.0   \n",
       "99967537                      0.0   \n",
       "99988578                      0.0   \n",
       "99991245                      0.0   \n",
       "99999680                      0.0   \n",
       "\n",
       "type      Авиалинии, авиакомпании, нигде более не классифицированные  \\\n",
       "user_id                                                                \n",
       "99953525                                                0.0            \n",
       "99967537                                                0.0            \n",
       "99988578                                                0.0            \n",
       "99991245                                                0.0            \n",
       "99999680                                                0.0            \n",
       "\n",
       "type      Автобусные линии  Автозапчасти и аксессуары  \\\n",
       "user_id                                                 \n",
       "99953525               0.0                   0.000000   \n",
       "99967537               0.0                   0.000000   \n",
       "99988578               0.0                   0.000000   \n",
       "99991245               0.0                   0.010513   \n",
       "99999680               0.0                   0.000000   \n",
       "\n",
       "type      Автоматизированные бензозаправки  Автомойки  Автошины  \\\n",
       "user_id                                                           \n",
       "99953525                               0.0        0.0       0.0   \n",
       "99967537                               0.0        0.0       0.0   \n",
       "99988578                               0.0        0.0       0.0   \n",
       "99991245                               0.0        0.0       0.0   \n",
       "99999680                               0.0        0.0       0.0   \n",
       "\n",
       "type      Агентства по автотранспортным перевозкам, местные/дальные автогрузоперевозки, компании попереезду и хранению, местная доставка  \\\n",
       "user_id                                                                                                                                    \n",
       "99953525                                                0.0                                                                                \n",
       "99967537                                                0.0                                                                                \n",
       "99988578                                                0.0                                                                                \n",
       "99991245                                                0.0                                                                                \n",
       "99999680                                                0.0                                                                                \n",
       "\n",
       "type      Агентства по аренде автомобилей  \\\n",
       "user_id                                     \n",
       "99953525                              0.0   \n",
       "99967537                              0.0   \n",
       "99988578                              0.0   \n",
       "99991245                              0.0   \n",
       "99999680                              0.0   \n",
       "\n",
       "type      Агенты и менеджеры по аренде недвижимости  ...  \\\n",
       "user_id                                              ...   \n",
       "99953525                                        0.0  ...   \n",
       "99967537                                        0.0  ...   \n",
       "99988578                                        0.0  ...   \n",
       "99991245                                        0.0  ...   \n",
       "99999680                                        0.0  ...   \n",
       "\n",
       "type      Химикалии и смежные вещества, не классифицированные ранее  \\\n",
       "user_id                                                               \n",
       "99953525                                                0.0           \n",
       "99967537                                                0.0           \n",
       "99988578                                                0.0           \n",
       "99991245                                                0.0           \n",
       "99999680                                                0.0           \n",
       "\n",
       "type      Химчистки  Ценные бумаги: брокеры/дилеры  Центры здоровья  \\\n",
       "user_id                                                               \n",
       "99953525        0.0                            0.0              0.0   \n",
       "99967537        0.0                            0.0              0.0   \n",
       "99988578        0.0                            0.0              0.0   \n",
       "99991245        0.0                            0.0              0.0   \n",
       "99999680        0.0                            0.0              0.0   \n",
       "\n",
       "type      Цифровые товары, игры  Школы — бизнес и секретарей  Штрафы  \\\n",
       "user_id                                                                \n",
       "99953525               0.000000                          0.0     0.0   \n",
       "99967537               0.000000                          0.0     0.0   \n",
       "99988578               0.058444                          0.0     0.0   \n",
       "99991245               0.000000                          0.0     0.0   \n",
       "99999680               0.000000                          0.0     0.0   \n",
       "\n",
       "type      Штучные товары, галантерея и другие текстильные товары  \\\n",
       "user_id                                                            \n",
       "99953525                                                0.0        \n",
       "99967537                                                0.0        \n",
       "99988578                                                0.0        \n",
       "99991245                                                0.0        \n",
       "99999680                                                0.0        \n",
       "\n",
       "type      Электрические части и оборудование  gender  \n",
       "user_id                                               \n",
       "99953525                                 0.0     0.0  \n",
       "99967537                                 0.0     1.0  \n",
       "99988578                                 0.0     1.0  \n",
       "99991245                                 0.0     1.0  \n",
       "99999680                                 0.0     1.0  \n",
       "\n",
       "[5 rows x 185 columns]"
      ]
     },
     "execution_count": 27,
     "metadata": {},
     "output_type": "execute_result"
    }
   ],
   "source": [
    "scaled_data = pd.DataFrame(MinMaxScaler().fit_transform(agg_data_1), columns=agg_data_1.columns, index=agg_data_1.index)\n",
    "scaled_data.tail()"
   ]
  },
  {
   "cell_type": "markdown",
   "id": "7adad023",
   "metadata": {},
   "source": [
    "## Подбор параметров [15 баллов]"
   ]
  },
  {
   "cell_type": "markdown",
   "id": "e3a63257",
   "metadata": {},
   "source": [
    "Подберите наилучшие параметры для модели линейной регрессии. Важные уточнения:\n",
    "\n",
    "* используйте перебор по сетке\n",
    "* в качестве метрики используйте ROC AUC\n",
    "* для оценки параметров делайте кросс-валидацию на 4 фолдах\n",
    "\n",
    "__Замечание__: у линейной регрессии множество доступных значений для некоторых параметров зависит от метода оптимизации (solver). Например, lbfgs-алгоритм не подерживает l1-регуляризацию.\n",
    "\n",
    "Поэтому действуйте шагами: сначала подберите solver, а потом уже переберите доступные для него параметры."
   ]
  },
  {
   "cell_type": "code",
   "execution_count": 45,
   "id": "8198a4c5",
   "metadata": {
    "scrolled": false
   },
   "outputs": [],
   "source": [
    "# Ваш код здесь\n",
    "parameters = {\n",
    "    \"solver\": ['newton-cg', 'newton-cholesky', 'liblinear', 'sag', 'saga'],\n",
    "    \"C\":[1, 5],\n",
    "    \"max_iter\":range(1000, 2000, 500)\n",
    "    \n",
    "}\n",
    "grid = GridSearchCV(LogisticRegression(), parameters, cv=4, scoring=roc_auc_score)"
   ]
  },
  {
   "cell_type": "code",
   "execution_count": 46,
   "id": "c71a5c07",
   "metadata": {
    "scrolled": false
   },
   "outputs": [
    {
     "data": {
      "text/plain": [
       "GridSearchCV(cv=4, estimator=LogisticRegression(),\n",
       "             param_grid={'C': [1, 5], 'max_iter': range(1000, 2000, 500),\n",
       "                         'solver': ['liblinear', 'newton-cg', 'newton-cholesky',\n",
       "                                    'sag', 'saga']},\n",
       "             scoring=<function roc_auc_score at 0x000001FDAC23FCA0>)"
      ]
     },
     "execution_count": 46,
     "metadata": {},
     "output_type": "execute_result"
    }
   ],
   "source": [
    "# Ваш код здесь\n",
    "grid.fit(X_train, Y_train)"
   ]
  },
  {
   "cell_type": "code",
   "execution_count": 47,
   "id": "98913597",
   "metadata": {},
   "outputs": [
    {
     "data": {
      "text/plain": [
       "LogisticRegression(C=1, max_iter=1000, solver='liblinear')"
      ]
     },
     "execution_count": 47,
     "metadata": {},
     "output_type": "execute_result"
    }
   ],
   "source": [
    "grid.best_estimator_"
   ]
  },
  {
   "cell_type": "code",
   "execution_count": 48,
   "id": "104a30e2",
   "metadata": {},
   "outputs": [],
   "source": [
    "lr = grid.best_estimator_"
   ]
  },
  {
   "cell_type": "markdown",
   "id": "d6c296ef",
   "metadata": {},
   "source": [
    "Оцените качество лучшей модели на тестовых данных аналогично предыдущим задачам."
   ]
  },
  {
   "cell_type": "code",
   "execution_count": 49,
   "id": "a264b6ee",
   "metadata": {
    "scrolled": false
   },
   "outputs": [
    {
     "data": {
      "text/plain": [
       "(array([0.73726736, 0.18920236, 0.01264019, ..., 0.95240447, 0.0072618 ,\n",
       "        0.77358786]),\n",
       " array([1, 0, 0, ..., 1, 0, 1]))"
      ]
     },
     "execution_count": 49,
     "metadata": {},
     "output_type": "execute_result"
    }
   ],
   "source": [
    "# Ваш код здесь\n",
    "probas = lr.predict_proba(X_test)[:, 1]\n",
    "preds = take_pred_from_proba(probas)\n",
    "probas, preds"
   ]
  },
  {
   "cell_type": "code",
   "execution_count": 50,
   "id": "2e562b52",
   "metadata": {},
   "outputs": [
    {
     "name": "stdout",
     "output_type": "stream",
     "text": [
      "ROC AUC SCORE IS 0.8075746644259058\n",
      "PRECISION SCORE IS 0.7411764705882353\n",
      "RECALL SCORE IS 0.6553966189856957\n",
      "ACCURACY SCORE IS 0.736244019138756\n"
     ]
    }
   ],
   "source": [
    "print(f\"ROC AUC SCORE IS {roc_auc_score(Y_test, probas):3.f}\")\n",
    "print(f\"PRECISION SCORE IS {precision_score(Y_test, preds):3.f}\")\n",
    "print(f\"RECALL SCORE IS {recall_score(Y_test, preds):3.f}\")\n",
    "print(f\"ACCURACY SCORE IS {accuracy_score(Y_test, preds):3.f}\")"
   ]
  },
  {
   "cell_type": "markdown",
   "id": "a5f49648",
   "metadata": {},
   "source": [
    "Получилось ли добиться лучше качества при подборе параметров?\n",
    "Почему так? \n",
    "\n",
    "Для чего мы использовали одновременно кросс-валидацию и отложенную тестовую выборку?\n",
    "\n",
    "__Ваш вывод__:\n",
    "<div class=\"alert alert-success\">\n",
    "   Качество модели не сказать, что координально увеличилось,  так ка все-таки агрегация данных имеет большее значение на результат,  нежели подбор гиперпарметров, но эффект от этого точно есть)\n",
    "</div>"
   ]
  },
  {
   "cell_type": "markdown",
   "id": "4db51ec9",
   "metadata": {},
   "source": [
    "## Подбор отсечения [5 баллов]"
   ]
  },
  {
   "cell_type": "markdown",
   "id": "9b9d5678",
   "metadata": {},
   "source": [
    "Ранее мы работали или с вероятностями из модели или с метками, полученных при отсечении по веростности с порогом 0.5.\n",
    "\n",
    "Стоит сказать, что порог 0.5 для разделения классов не всегда самый лучший. Часто нам нужно так подобрать порог, чтобы удовлетворить наши требования по точности и полноте.\n",
    "\n",
    "Давайте подберём порог, который максимизирует F_beta меру при условии, что нам полнота в 5 раз важнее точности.\n",
    "\n",
    "Вычислите наилучший порог и нарисуйте график зависимости этой метрики от порога разделения."
   ]
  },
  {
   "cell_type": "code",
   "execution_count": 80,
   "id": "6133e980",
   "metadata": {
    "scrolled": false
   },
   "outputs": [],
   "source": [
    "# Ваш код здесь\n",
    "\n",
    "def find_level(probas, Y_test, cnt_pred=take_pred_from_proba):\n",
    "    levels = np.arange(0.01, 0.99, 0.01)\n",
    "    scores = []\n",
    "    \n",
    "    for level in levels:\n",
    "        preds = cnt_pred(probas, level=level)\n",
    "        score = fbeta_score(Y_test, preds, beta=5)\n",
    "        scores.append(score)\n",
    "        \n",
    "    optimal_level = levels[scores.index(max(scores))]\n",
    "        \n",
    "    return optimal_level, scores, levels"
   ]
  },
  {
   "cell_type": "code",
   "execution_count": 81,
   "id": "7296a7e1",
   "metadata": {},
   "outputs": [
    {
     "name": "stdout",
     "output_type": "stream",
     "text": [
      "Значение порога который максимизирует F_beta меру при условии, что нам полнота в 5 раз важнее точности = 0.01\n"
     ]
    }
   ],
   "source": [
    "optimal_level, scores, levels = find_level(probas, Y_test)\n",
    "print(f\"Значение порога который максимизирует F_beta меру при условии, что нам полнота в 5 раз важнее точности = {optimal_level}\")"
   ]
  },
  {
   "cell_type": "code",
   "execution_count": 83,
   "id": "ff00610c",
   "metadata": {},
   "outputs": [
    {
     "data": {
      "image/png": "[encoded data removed]",
      "text/plain": [
       "<Figure size 640x480 with 1 Axes>"
      ]
     },
     "metadata": {},
     "output_type": "display_data"
    }
   ],
   "source": [
    "plt.plot(levels, scores)\n",
    "plt.xlabel(\"Значение порога\")\n",
    "plt.ylabel(\"Значение Fbeta_score\")\n",
    "plt.title(\"Зависимость Fbeta_score от значения порога\");"
   ]
  },
  {
   "cell_type": "markdown",
   "id": "9692dde3",
   "metadata": {},
   "source": [
    "## Интерпретация модели [5 баллов]"
   ]
  },
  {
   "cell_type": "markdown",
   "id": "fda297e1",
   "metadata": {},
   "source": [
    "Часто нам хочется интерпритировать предсказания модели - понять, как наши признаки влияют на её ответ.\n",
    "В случае сложных моделей сделать это не просто - чем сложнее модель, тем более сложные закономерности она извлекает и тем тяжелее нам их понять.\n",
    "\n",
    "Но в случае линейной регресии это просто сделать, посмотрев на её обучаемые параметры (вспоминайте!).\n",
    "\n",
    "Получите список признаков, которые увеличивают вероятность метки 0.\n",
    "Аналогично для метки 1."
   ]
  },
  {
   "cell_type": "code",
   "execution_count": 125,
   "id": "2625f3ef",
   "metadata": {
    "scrolled": false
   },
   "outputs": [],
   "source": [
    "# Ваш код здесь"
   ]
  },
  {
   "cell_type": "code",
   "execution_count": null,
   "id": "3f0d0279",
   "metadata": {
    "scrolled": false
   },
   "outputs": [],
   "source": [
    "# Ваш код здесь"
   ]
  },
  {
   "cell_type": "markdown",
   "id": "93723beb",
   "metadata": {},
   "source": [
    "# Часть 4: ва-банк / пространство для творчества [макс 30 баллов]"
   ]
  },
  {
   "cell_type": "markdown",
   "id": "97dc0173",
   "metadata": {},
   "source": [
    "Добейтесь максимального качества, больше качество - больше баллов.\n",
    "\n",
    "Стратегия подготовки данных и обучения модели на ваше усмотрение.\n",
    "\n",
    "Условия:\n",
    "* Оценка на отложенной тестовой группе пользователей, использовавшейся в прошлых пунктах (20%)\n",
    "* В качестве метрики используйте ROC_AUC\n",
    "\n",
    "__Замечание__: \n",
    "\n",
    "Ответа на вопрос \"какое нужно качество для максимального балла?\" не будет.\n",
    "\n",
    "Используйте все свои знания, чтобы добиться наилучшего результата."
   ]
  },
  {
   "cell_type": "code",
   "execution_count": 131,
   "id": "93412ff6",
   "metadata": {},
   "outputs": [
    {
     "name": "stdout",
     "output_type": "stream",
     "text": [
      "Collecting xgboost\n",
      "  Downloading xgboost-1.7.5-py3-none-win_amd64.whl (70.9 MB)\n",
      "     --------------------------------------- 70.9/70.9 MB 11.7 MB/s eta 0:00:00\n",
      "Requirement already satisfied: scipy in r:\\applications\\lib\\site-packages (from xgboost) (1.9.1)\n",
      "Requirement already satisfied: numpy in r:\\applications\\lib\\site-packages (from xgboost) (1.21.5)\n",
      "Installing collected packages: xgboost\n",
      "Successfully installed xgboost-1.7.5\n"
     ]
    }
   ],
   "source": [
    "!pip install xgboost"
   ]
  },
  {
   "cell_type": "markdown",
   "id": "1200a54d",
   "metadata": {},
   "source": [
    "<div class=\"alert alert-success\">\n",
    "  Проверим, какая мз моделей лучше всего отработает на нашем датасете проверочным путем.\n",
    "</div>"
   ]
  },
  {
   "cell_type": "code",
   "execution_count": 139,
   "id": "67e9adeb",
   "metadata": {},
   "outputs": [],
   "source": [
    "from sklearn.tree import DecisionTreeClassifier\n",
    "from sklearn.ensemble import RandomForestClassifier\n",
    "from xgboost import XGBClassifier\n",
    "from sklearn.metrics import roc_curve"
   ]
  },
  {
   "cell_type": "code",
   "execution_count": 140,
   "id": "c567818c",
   "metadata": {},
   "outputs": [],
   "source": [
    "model_lr = LogisticRegression().fit(X_train, Y_train)\n",
    "probs_lr = model_lr.predict_proba(X_test)[:, 1]\n",
    "\n",
    "model_dt = DecisionTreeClassifier().fit(X_train, Y_train)\n",
    "probs_dt = model_dt.predict_proba(X_test)[:, 1]\n",
    "\n",
    "model_rf = RandomForestClassifier().fit(X_train, Y_train)\n",
    "probs_rf = model_rf.predict_proba(X_test)[:, 1]\n",
    "\n",
    "model_xg = XGBClassifier().fit(X_train, Y_train)\n",
    "probs_xg = model_xg.predict_proba(X_test)[:, 1]"
   ]
  },
  {
   "cell_type": "code",
   "execution_count": 141,
   "id": "f16e4a02",
   "metadata": {},
   "outputs": [],
   "source": [
    "auc_lr = roc_auc_score(Y_test, probs_lr)\n",
    "fpr_lr, tpr_lr, thresholds_lr = roc_curve(Y_test, probs_lr)\n",
    "\n",
    "auc_dt = roc_auc_score(Y_test, probs_dt)\n",
    "fpr_dt, tpr_dt, thresholds_dt = roc_curve(Y_test, probs_dt)\n",
    "\n",
    "auc_rf = roc_auc_score(Y_test, probs_rf)\n",
    "fpr_rf, tpr_rf, thresholds_rf = roc_curve(Y_test, probs_rf)\n",
    "\n",
    "auc_xg = roc_auc_score(Y_test, probs_xg)\n",
    "fpr_xg, tpr_xg, thresholds_xg = roc_curve(Y_test, probs_xg)"
   ]
  },
  {
   "cell_type": "code",
   "execution_count": 145,
   "id": "fedc8957",
   "metadata": {},
   "outputs": [
    {
     "data": {
      "image/png": "[encoded data removed]",
      "text/plain": [
       "<Figure size 1000x600 with 1 Axes>"
      ]
     },
     "metadata": {},
     "output_type": "display_data"
    }
   ],
   "source": [
    "plt.figure(figsize=(10, 6))\n",
    "\n",
    "plt.plot(fpr_lr, tpr_lr, label=f'AUC (Logistic Regression) = {auc_lr:.3f}')\n",
    "plt.plot(fpr_dt, tpr_dt, label=f'AUC (Decision Tree) = {auc_dt:.3f}')\n",
    "plt.plot(fpr_rf, tpr_rf, label=f'AUC (Random Forests) = {auc_rf:.3f}')\n",
    "plt.plot(fpr_xg, tpr_xg, label=f'AUC (XGBoost) = {auc_xg:.3f}')\n",
    "\n",
    "plt.plot([0, 1], [0, 1], color='black', linestyle='--', label='AUC = 0.5')\n",
    "plt.title('ROC Кривая', size=20)\n",
    "plt.xlabel('FPR', size=14)\n",
    "plt.ylabel('TPR', size=14)\n",
    "plt.legend();"
   ]
  },
  {
   "cell_type": "markdown",
   "id": "68d3f3af",
   "metadata": {},
   "source": [
    "<div class=\"alert alert-success\">\n",
    " Видим, что лучше всего справилась модельградиентного бустинга - <b>XGBoost</b><br>\n",
    " Попробуем потюнить параметры для достижения более хорошего результата.\n",
    "</div>"
   ]
  },
  {
   "cell_type": "code",
   "execution_count": 160,
   "id": "823d0cf9",
   "metadata": {},
   "outputs": [],
   "source": [
    "model_xg = XGBClassifier(\n",
    "    max_depth=8,\n",
    "    learning_rate=0.05,\n",
    "    n_estimators=200,\n",
    "    \n",
    ").fit(X_train, Y_train)\n",
    "probs_xg = model_xg.predict_proba(X_test)[:, 1]"
   ]
  },
  {
   "cell_type": "code",
   "execution_count": 161,
   "id": "ba20f1c5",
   "metadata": {},
   "outputs": [
    {
     "name": "stdout",
     "output_type": "stream",
     "text": [
      "ROC AUC SCORE IS 0.848\n"
     ]
    }
   ],
   "source": [
    "print(f\"ROC AUC SCORE IS {roc_auc_score(Y_test, probs_xg):.3f}\")"
   ]
  },
  {
   "cell_type": "markdown",
   "id": "69bba059",
   "metadata": {},
   "source": [
    "<div class=\"alert alert-success\">\n",
    " <h1>Вывод:</h1><br>\n",
    " Попробовав несколько вариаций, получилось увеличить знаечние <b>roc_auc_score</b> на 0.5. <br>\n",
    " Тут можно попробовать еще запустить <b>GridSearchCV</b>, но слишком долго ждать и комп не тянет просто, о результат есть и это хорошо))\n",
    "</div>"
   ]
  }
 ],
 "metadata": {
  "kernelspec": {
   "display_name": "Python 3 (ipykernel)",
   "language": "python",
   "name": "python3"
  },
  "language_info": {
   "codemirror_mode": {
    "name": "ipython",
    "version": 3
   },
   "file_extension": ".py",
   "mimetype": "text/x-python",
   "name": "python",
   "nbconvert_exporter": "python",
   "pygments_lexer": "ipython3",
   "version": "3.10.9"
  }
 },
 "nbformat": 4,
 "nbformat_minor": 5
}
